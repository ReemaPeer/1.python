{
 "cells": [
  {
   "cell_type": "code",
   "execution_count": 1,
   "id": "633376a1",
   "metadata": {},
   "outputs": [
    {
     "name": "stdout",
     "output_type": "stream",
     "text": [
      "hello\"world\"\n"
     ]
    }
   ],
   "source": [
    "print('hello\"world\"')"
   ]
  },
  {
   "cell_type": "code",
   "execution_count": 4,
   "id": "2f82fe19",
   "metadata": {},
   "outputs": [
    {
     "name": "stdout",
     "output_type": "stream",
     "text": [
      "Enter Num1:45\n",
      "Enter Num2:23\n",
      "Sum: 68\n"
     ]
    }
   ],
   "source": [
    "Num1=int(input(\"Enter Num1:\"))\n",
    "Num2=int(input(\"Enter Num2:\"))\n",
    "print(\"Sum:\",Num1+Num2)"
   ]
  },
  {
   "cell_type": "raw",
   "id": "53237cbc",
   "metadata": {},
   "source": [
    "print(\"Reema\")"
   ]
  },
  {
   "cell_type": "code",
   "execution_count": 1,
   "id": "85deeaf8",
   "metadata": {},
   "outputs": [
    {
     "name": "stdout",
     "output_type": "stream",
     "text": [
      "Reema\n"
     ]
    }
   ],
   "source": [
    "print(\"Reema\")"
   ]
  },
  {
   "cell_type": "code",
   "execution_count": 3,
   "id": "94b52f8a",
   "metadata": {},
   "outputs": [
    {
     "name": "stdout",
     "output_type": "stream",
     "text": [
      "Enter Name:Reema\n",
      "My Name is: Reema\n"
     ]
    }
   ],
   "source": [
    "Name=input(\"Enter Name:\")\n",
    "print(\"My Name is:\",Name)\n"
   ]
  },
  {
   "cell_type": "code",
   "execution_count": 7,
   "id": "46739a22",
   "metadata": {},
   "outputs": [
    {
     "name": "stdout",
     "output_type": "stream",
     "text": [
      "Enter Your Name:Reema Peer\n",
      "Enter Your Age:42\n",
      "My Name is  Reema Peer.I am  42 Years old.\n"
     ]
    }
   ],
   "source": [
    "Name=input(\"Enter Your Name:\")\n",
    "Age=input(\"Enter Your Age:\")\n",
    "print(\"My Name is \",Name+ \".I am \",Age + \" Years old.\")"
   ]
  },
  {
   "cell_type": "code",
   "execution_count": 8,
   "id": "5101625e",
   "metadata": {},
   "outputs": [
    {
     "name": "stdout",
     "output_type": "stream",
     "text": [
      "It's a 'LOVELY DAY'\n"
     ]
    }
   ],
   "source": [
    "print(\"It's a 'LOVELY DAY'\")"
   ]
  },
  {
   "cell_type": "code",
   "execution_count": 10,
   "id": "5d25fe66",
   "metadata": {},
   "outputs": [
    {
     "name": "stdout",
     "output_type": "stream",
     "text": [
      "\"Haaziq\" won the 'FootBall' match\n"
     ]
    }
   ],
   "source": [
    "print('''\"Haaziq\" won the 'FootBall' match''')"
   ]
  },
  {
   "cell_type": "code",
   "execution_count": null,
   "id": "56f5007d",
   "metadata": {},
   "outputs": [],
   "source": []
  }
 ],
 "metadata": {
  "kernelspec": {
   "display_name": "Python 3 (ipykernel)",
   "language": "python",
   "name": "python3"
  },
  "language_info": {
   "codemirror_mode": {
    "name": "ipython",
    "version": 3
   },
   "file_extension": ".py",
   "mimetype": "text/x-python",
   "name": "python",
   "nbconvert_exporter": "python",
   "pygments_lexer": "ipython3",
   "version": "3.11.4"
  }
 },
 "nbformat": 4,
 "nbformat_minor": 5
}
