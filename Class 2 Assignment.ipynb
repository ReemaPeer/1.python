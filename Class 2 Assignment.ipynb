{
 "cells": [
  {
   "cell_type": "code",
   "execution_count": 1,
   "id": "4c8f7590",
   "metadata": {},
   "outputs": [
    {
     "name": "stdout",
     "output_type": "stream",
     "text": [
      "your Gender: Male\n",
      "Your Age: 25\n"
     ]
    },
    {
     "data": {
      "text/plain": [
       "'ELIGIBLE'"
      ]
     },
     "execution_count": 1,
     "metadata": {},
     "output_type": "execute_result"
    }
   ],
   "source": [
    "from MultipleFunction import multifunction\n",
    "multifunction.Eligible()"
   ]
  },
  {
   "cell_type": "code",
   "execution_count": 2,
   "id": "6caca093",
   "metadata": {},
   "outputs": [
    {
     "name": "stdout",
     "output_type": "stream",
     "text": [
      "Enter a Number: 54\n",
      "54 is Even Number\n"
     ]
    }
   ],
   "source": [
    "from MultipleFunction import multifunction\n",
    "multifunction.OddEven()"
   ]
  },
  {
   "cell_type": "code",
   "execution_count": 1,
   "id": "ce196095",
   "metadata": {},
   "outputs": [
    {
     "name": "stdout",
     "output_type": "stream",
     "text": [
      "Subject1 = 98\n",
      "Subject2 = 87\n",
      "Subject3 = 87\n",
      "Subject4 = 98\n",
      "Subject5 = 96\n",
      "Total :  466\n",
      "Percentage: 93.2\n"
     ]
    }
   ],
   "source": [
    "from MultipleFunction import multifunction\n",
    "multifunction.Percentage()"
   ]
  },
  {
   "cell_type": "code",
   "execution_count": 2,
   "id": "feec99ea",
   "metadata": {},
   "outputs": [
    {
     "name": "stdout",
     "output_type": "stream",
     "text": [
      "Height :14\n",
      "Breadth :24\n",
      "Area Formula: (Height*Breadth)/2\n",
      "Area of Triagle : 168.0\n",
      "Height1 :12\n",
      "Height2 :12\n",
      "Braedth :15\n",
      "Perimeter Formula: Height1+height2+Braedth\n",
      "Perimeter of Triangle:  39\n"
     ]
    }
   ],
   "source": [
    "from MultipleFunction import multifunction\n",
    "multifunction.triangle()"
   ]
  },
  {
   "cell_type": "code",
   "execution_count": null,
   "id": "5940511d",
   "metadata": {},
   "outputs": [],
   "source": []
  }
 ],
 "metadata": {
  "kernelspec": {
   "display_name": "Python 3 (ipykernel)",
   "language": "python",
   "name": "python3"
  },
  "language_info": {
   "codemirror_mode": {
    "name": "ipython",
    "version": 3
   },
   "file_extension": ".py",
   "mimetype": "text/x-python",
   "name": "python",
   "nbconvert_exporter": "python",
   "pygments_lexer": "ipython3",
   "version": "3.11.4"
  }
 },
 "nbformat": 4,
 "nbformat_minor": 5
}
