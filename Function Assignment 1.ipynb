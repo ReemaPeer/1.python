{
 "cells": [
  {
   "cell_type": "code",
   "execution_count": 11,
   "id": "b9532d95",
   "metadata": {},
   "outputs": [
    {
     "name": "stdout",
     "output_type": "stream",
     "text": [
      "Sub-fields in AI are:\n",
      "\n",
      " Machine Learning\n",
      "\n",
      " Neural Networks\n",
      "\n",
      " Vision\n",
      "\n",
      " Robotics\n",
      "\n",
      " Speach Processing\n",
      "\n",
      " Natural Language Processing\n"
     ]
    }
   ],
   "source": [
    "# Create a Function,and list out the items in the list \n",
    "    \n",
    "def subfields():\n",
    "    subfield=[\"Machine Learning\",\"Neural Networks\",\"Vision\",\"Robotics\",\"Speach Processing\",\"Natural Language Processing\"]\n",
    "    print(\"Sub-fields in AI are:\")\n",
    "    for field in subfield:\n",
    "        print(\"\\n\",field)\n",
    "    \n",
    "       \n",
    "subfields()"
   ]
  },
  {
   "cell_type": "code",
   "execution_count": 63,
   "id": "0de512e9",
   "metadata": {},
   "outputs": [
    {
     "name": "stdout",
     "output_type": "stream",
     "text": [
      "Enter a Number: 54352\n",
      "54352 is Even Number\n"
     ]
    }
   ],
   "source": [
    "# Create a function to check wheter the given number is odd or even\n",
    "\n",
    "def OddEven():\n",
    "    Num=int(input(\"Enter a Number: \"))\n",
    "    if (Num%2 == 0):\n",
    "        print(Num,\"is Even Number\")\n",
    "    else:\n",
    "        print(Num,\"is Odd Number\")\n",
    "                 \n",
    "OddEven()\n",
    "\n",
    "\n",
    "        "
   ]
  },
  {
   "cell_type": "code",
   "execution_count": 65,
   "id": "a3ce22df",
   "metadata": {},
   "outputs": [
    {
     "name": "stdout",
     "output_type": "stream",
     "text": [
      "your Gender: Male\n",
      "Your Age: 20\n"
     ]
    },
    {
     "data": {
      "text/plain": [
       "'NOT ELIGIBLE'"
      ]
     },
     "execution_count": 65,
     "metadata": {},
     "output_type": "execute_result"
    }
   ],
   "source": [
    "# Create a funtion that tells eligibility of marriage for male and female according to their age limit\n",
    "\n",
    "def Eligible():\n",
    "    gender=input(\"your Gender: \")\n",
    "    age=int(input(\"Your Age: \"))\n",
    "    if (gender==\"Male\"):\n",
    "        if(age>=21):\n",
    "            eligibility=\"ELIGIBLE\"\n",
    "        else:\n",
    "            eligibility=\"NOT ELIGIBLE\"\n",
    "    elif (gender==\"Female\"):\n",
    "        if(age>=18):\n",
    "            eligibility=\"ELIGIBLE\"\n",
    "        else:\n",
    "            eligibility=\"NOT ELIGIBLE\"\n",
    "            \n",
    "    return eligibility    \n",
    "\n",
    "Eligible()\n",
    "            \n",
    "    "
   ]
  },
  {
   "cell_type": "code",
   "execution_count": 66,
   "id": "3e6667c1",
   "metadata": {},
   "outputs": [
    {
     "name": "stdout",
     "output_type": "stream",
     "text": [
      "Subject1 = 98\n",
      "Subject2 = 87\n",
      "Subject3 = 95\n",
      "Subject4 = 95\n",
      "Subject5 = 92\n",
      "Total :  467\n",
      "Percentage: 93.4\n"
     ]
    }
   ],
   "source": [
    "# Calculate the percentage of your 10th mark\n",
    "\n",
    "    \n",
    "def Percentage():\n",
    "    mark1 = int(input(\"Subject1 = \"))\n",
    "    mark2 = int(input(\"Subject2 = \"))\n",
    "    mark3 = int(input(\"Subject3 = \"))\n",
    "    mark4 = int(input(\"Subject4 = \"))\n",
    "    mark5 = int(input(\"Subject5 = \"))\n",
    "    Total = mark1+mark2+mark3+mark4+mark5\n",
    "    print(\"Total : \",Total)\n",
    "    Percentage = (Total/5)\n",
    "    print(\"Percentage:\",Percentage) \n",
    "          \n",
    "Percentage()    \n",
    "        "
   ]
  },
  {
   "cell_type": "code",
   "execution_count": 67,
   "id": "332d376f",
   "metadata": {},
   "outputs": [
    {
     "name": "stdout",
     "output_type": "stream",
     "text": [
      "Height :34\n",
      "Breadth :32\n",
      "Area Formula: (Height*Breadth)/2\n",
      "Area of Triagle : 544.0\n",
      "Height1 :2\n",
      "Height2 :4\n",
      "Braedth :4\n",
      "Perimeter Formula: Height1+height2+Braedth\n",
      "Perimeter of Triangle:  10\n"
     ]
    }
   ],
   "source": [
    "def triangle():\n",
    "        height = int(input(\"Height :\"))\n",
    "        base = int(input(\"Breadth :\"))\n",
    "        print(\"Area Formula: (Height*Breadth)/2\")\n",
    "        area = (height*base)/2\n",
    "        print(\"Area of Triagle :\",area)\n",
    "        side1 = int(input(\"Height1 :\"))\n",
    "        side2 = int(input(\"Height2 :\"))\n",
    "        side3 = int(input(\"Braedth :\")) \n",
    "        print(\"Perimeter Formula: Height1+height2+Braedth\")\n",
    "        perimeter = side1+side2+side3\n",
    "        print(\"Perimeter of Triangle: \",perimeter)\n",
    "        \n",
    "triangle()        \n",
    "        "
   ]
  },
  {
   "cell_type": "code",
   "execution_count": null,
   "id": "255cc7ae",
   "metadata": {},
   "outputs": [],
   "source": []
  }
 ],
 "metadata": {
  "kernelspec": {
   "display_name": "Python 3 (ipykernel)",
   "language": "python",
   "name": "python3"
  },
  "language_info": {
   "codemirror_mode": {
    "name": "ipython",
    "version": 3
   },
   "file_extension": ".py",
   "mimetype": "text/x-python",
   "name": "python",
   "nbconvert_exporter": "python",
   "pygments_lexer": "ipython3",
   "version": "3.11.4"
  }
 },
 "nbformat": 4,
 "nbformat_minor": 5
}
